{
 "cells": [
  {
   "attachments": {},
   "cell_type": "markdown",
   "metadata": {},
   "source": [
    "# Database Analysis\n",
    "\n",
    "Contains: \n",
    "1. Distribution of Slides per Train, Valid, Test Datasets\n",
    "2. Distribution of Pixel Areas in Percent"
   ]
  },
  {
   "attachments": {},
   "cell_type": "markdown",
   "metadata": {},
   "source": [
    "## Loading Requirements"
   ]
  },
  {
   "cell_type": "code",
   "execution_count": 10,
   "metadata": {},
   "outputs": [],
   "source": [
    "#Imports \n",
    "import sys\n",
    "sys.path.insert(0, '..')\n",
    "from pandasql import sqldf\n",
    "from slide.process_slides import *\n",
    "from fastai.vision import *\n",
    "import matplotlib as mpl"
   ]
  },
  {
   "cell_type": "code",
   "execution_count": 11,
   "metadata": {},
   "outputs": [],
   "source": [
    "#Folders\n",
    "image_folder = \"/home/klose/Data/crops_rescaled\" #contains images\n",
    "annotations_file = \"/home/klose/Data/CMC_Tumor_Tub_Pleo.json\" #contains annotations in COCO format\n",
    "csv_path =  \"/home/klose/Data/datasets.csv\" #contains slide names"
   ]
  },
  {
   "cell_type": "code",
   "execution_count": 12,
   "metadata": {},
   "outputs": [],
   "source": [
    "#Choose Dataset to analyse\n",
    "# dataset_type = \"pleomorphism_segmentation\"\n",
    "# dataset_type = \"tubule_formation_segmentation\"\n",
    "dataset_type = \"mammaCA_tumor_segmentation\"\n",
    "# dataset_type = \"scc_tumor_segmentation\""
   ]
  },
  {
   "cell_type": "code",
   "execution_count": 13,
   "metadata": {},
   "outputs": [],
   "source": [
    "# Class Distribution for each Dataset\n",
    "if dataset_type == \"pleomorphism_segmentation\": \n",
    "    reduced_label_dict = {'other':0,'pleo 1': 2, 'pleo 2': 3, 'pleo3': 4}  \n",
    "    poly_id = \"pleo_id\"\n",
    "    name = 'supercategory_Pleo'\n",
    "if dataset_type == \"tubule_formation_segmentation\":\n",
    "    reduced_label_dict = {'other':0,'tubular': 1}\n",
    "    poly_id = 'tub_id'\n",
    "    name = 'supercategory_TubFormation'\n",
    "if dataset_type == \"mammaCA_tumor_segmentation\":\n",
    "    image_folder = \"/home/klose/Data/crops_rescaled\"\n",
    "    poly_id = 'tumor_id'\n",
    "    name = 'supercategory_1'\n",
    "    reduced_label_dict = {'Other':0, 'Bg':1,'Tumor': 2, 'KeinTumor': 3}\n",
    "if dataset_type == \"scc_tumor_segmentation\":\n",
    "    image_folder = \"/home/klose/Data/SCC_images\"\n",
    "    #seperate annotation file, because its a different dataset\n",
    "    annotations_file = '/home/klose/Data/CATCH_Daten/SCC_Tumor_NonTumor.json'\n",
    "    csv_path =  \"/home/klose/Data/SCC_datasets.csv\"\n",
    "    poly_id = \"tumor_id\"\n",
    "    name = 'supercategory_scc'\n",
    "    reduced_label_dict = {'Other':0, 'Bg':1,'Tumor': 2, 'KeinTumor': 3}"
   ]
  },
  {
   "cell_type": "code",
   "execution_count": 14,
   "metadata": {},
   "outputs": [
    {
     "name": "stderr",
     "output_type": "stream",
     "text": [
      "100%|██████████| 300/300 [00:00<00:00, 1342893.49it/s]\n"
     ]
    }
   ],
   "source": [
    "#load slides\n",
    "train_files, valid_files, test_files= load_slides([\"train\",\"valid\", \"test\"], equal_sampling = False, target_folder = image_folder, csv_path = csv_path, annotations_file = annotations_file, label_dict = reduced_label_dict, dataset_type = dataset_type)"
   ]
  },
  {
   "cell_type": "code",
   "execution_count": 15,
   "metadata": {},
   "outputs": [
    {
     "name": "stdout",
     "output_type": "stream",
     "text": [
      "train slides:  176\n",
      "valid slides:  61\n",
      "test slides:  63\n"
     ]
    }
   ],
   "source": [
    "print(\"train slides: \", len(train_files))\n",
    "print(\"valid slides: \", len(valid_files))\n",
    "print(\"test slides: \", len(test_files))"
   ]
  },
  {
   "cell_type": "code",
   "execution_count": 16,
   "metadata": {},
   "outputs": [],
   "source": [
    "#if True: train, valid and test datasets will be analized seperately\n",
    "all_seperate = True "
   ]
  },
  {
   "cell_type": "code",
   "execution_count": 17,
   "metadata": {},
   "outputs": [],
   "source": [
    "#combine all files in one list - if seperate = False\n",
    "all_files = []\n",
    "\n",
    "if all_seperate:\n",
    "    all_files.append(train_files)\n",
    "    all_files.append(valid_files)\n",
    "    all_files.append(test_files)\n",
    "else: \n",
    "    all_files.extend(train_files)\n",
    "    all_files.extend(valid_files)\n",
    "    all_files.extend(test_files)\n"
   ]
  },
  {
   "attachments": {},
   "cell_type": "markdown",
   "metadata": {},
   "source": [
    "## 1. Distribution of Slides per Train, Valid, Test Datasets"
   ]
  },
  {
   "cell_type": "code",
   "execution_count": 18,
   "metadata": {},
   "outputs": [],
   "source": [
    "#get areas in whole dataset\n",
    "if all_seperate == False:\n",
    "    train_areas = []\n",
    "    for image_path in all_files:\n",
    "        with open(annotations_file) as f:\n",
    "            #read file\n",
    "            data = json.load(f) \n",
    "            #get image id\n",
    "            name = Path(image_path).name\n",
    "            image_id = [i.get('id') for i in data.get(\"images\") if i.get(\"file_name\") == name][0]\n",
    "            #get annotations for image id\n",
    "            polygons = [anno for anno in data['annotations'] if anno[\"image_id\"] == image_id]\n",
    "            #get annotations areas and class id for image id\n",
    "            polygons_areas = [(poly['image_id'] , poly[poly_id], poly[\"area\"] )for poly in polygons]\n",
    "            train_areas.extend(polygons_areas)\n",
    "else:\n",
    "    train_areas_lists = []\n",
    "    for file_class in all_files:\n",
    "        train_areas = []\n",
    "        for image_path in file_class:\n",
    "            with open(annotations_file) as f:\n",
    "                #read file\n",
    "                data = json.load(f) \n",
    "                #get image id\n",
    "                name = Path(image_path).name\n",
    "                image_id = [i.get('id') for i in data.get(\"images\") if i.get(\"file_name\") == name][0]\n",
    "                #get annotations for image id\n",
    "                polygons = [anno for anno in data['annotations'] if anno[\"image_id\"] == image_id]\n",
    "                #get annotations areas and class id for image id\n",
    "                #list with (205, 3, 20767598.0) tupels\n",
    "                polygons_areas = [(poly['image_id'] , poly[poly_id], poly[\"area\"] )for poly in polygons]\n",
    "                train_areas.extend(polygons_areas)\n",
    "        train_areas_lists.append(train_areas)\n"
   ]
  },
  {
   "cell_type": "code",
   "execution_count": 19,
   "metadata": {},
   "outputs": [
    {
     "name": "stderr",
     "output_type": "stream",
     "text": [
      "/tmp/ipykernel_1861010/2300107292.py:13: FutureWarning: The frame.append method is deprecated and will be removed from pandas in a future version. Use pandas.concat instead.\n",
      "  df = df_train.append(df_valid)\n",
      "/tmp/ipykernel_1861010/2300107292.py:14: FutureWarning: The frame.append method is deprecated and will be removed from pandas in a future version. Use pandas.concat instead.\n",
      "  df = df.append(df_test)\n"
     ]
    }
   ],
   "source": [
    "#create dataframe\n",
    "if all_seperate == False:\n",
    "    df = pd.DataFrame(train_areas, columns =['SlideId', 'class_id', \"Area\"])\n",
    "    print(df.head(4))\n",
    "else: \n",
    "    df_train = pd.DataFrame(train_areas_lists[0], columns =['SlideId', 'class_id', \"Area\"])\n",
    "    df_train[\"dataset\"] = \"train\"\n",
    "    df_valid = pd.DataFrame(train_areas_lists[1], columns =['SlideId', 'class_id', \"Area\"])\n",
    "    df_valid[\"dataset\"] = \"valid\"\n",
    "    df_test = pd.DataFrame(train_areas_lists[2], columns =['SlideId', 'class_id', \"Area\"])\n",
    "    df_test[\"dataset\"] = \"test\"\n",
    "\n",
    "    df = df_train.append(df_valid)\n",
    "    df = df.append(df_test)\n"
   ]
  },
  {
   "cell_type": "code",
   "execution_count": 20,
   "metadata": {},
   "outputs": [
    {
     "data": {
      "text/html": [
       "<div>\n",
       "<style scoped>\n",
       "    .dataframe tbody tr th:only-of-type {\n",
       "        vertical-align: middle;\n",
       "    }\n",
       "\n",
       "    .dataframe tbody tr th {\n",
       "        vertical-align: top;\n",
       "    }\n",
       "\n",
       "    .dataframe thead th {\n",
       "        text-align: right;\n",
       "    }\n",
       "</style>\n",
       "<table border=\"1\" class=\"dataframe\">\n",
       "  <thead>\n",
       "    <tr style=\"text-align: right;\">\n",
       "      <th></th>\n",
       "      <th>SlideId</th>\n",
       "      <th>class_id</th>\n",
       "      <th>Area</th>\n",
       "      <th>dataset</th>\n",
       "    </tr>\n",
       "  </thead>\n",
       "  <tbody>\n",
       "    <tr>\n",
       "      <th>0</th>\n",
       "      <td>30</td>\n",
       "      <td>0</td>\n",
       "      <td>135561.5</td>\n",
       "      <td>train</td>\n",
       "    </tr>\n",
       "    <tr>\n",
       "      <th>1</th>\n",
       "      <td>182</td>\n",
       "      <td>0</td>\n",
       "      <td>7958.5</td>\n",
       "      <td>train</td>\n",
       "    </tr>\n",
       "    <tr>\n",
       "      <th>2</th>\n",
       "      <td>182</td>\n",
       "      <td>0</td>\n",
       "      <td>8097.5</td>\n",
       "      <td>train</td>\n",
       "    </tr>\n",
       "  </tbody>\n",
       "</table>\n",
       "</div>"
      ],
      "text/plain": [
       "   SlideId  class_id      Area dataset\n",
       "0       30         0  135561.5   train\n",
       "1      182         0    7958.5   train\n",
       "2      182         0    8097.5   train"
      ]
     },
     "execution_count": 20,
     "metadata": {},
     "output_type": "execute_result"
    }
   ],
   "source": [
    "#Dataframe overview\n",
    "sqldf(\"SELECT * from df order By class_id asc limit 3\")"
   ]
  },
  {
   "cell_type": "code",
   "execution_count": 21,
   "metadata": {},
   "outputs": [
    {
     "data": {
      "text/html": [
       "<div>\n",
       "<style scoped>\n",
       "    .dataframe tbody tr th:only-of-type {\n",
       "        vertical-align: middle;\n",
       "    }\n",
       "\n",
       "    .dataframe tbody tr th {\n",
       "        vertical-align: top;\n",
       "    }\n",
       "\n",
       "    .dataframe thead th {\n",
       "        text-align: right;\n",
       "    }\n",
       "</style>\n",
       "<table border=\"1\" class=\"dataframe\">\n",
       "  <thead>\n",
       "    <tr style=\"text-align: right;\">\n",
       "      <th></th>\n",
       "      <th>num_roi_df</th>\n",
       "    </tr>\n",
       "  </thead>\n",
       "  <tbody>\n",
       "    <tr>\n",
       "      <th>0</th>\n",
       "      <td>294</td>\n",
       "    </tr>\n",
       "  </tbody>\n",
       "</table>\n",
       "</div>"
      ],
      "text/plain": [
       "   num_roi_df\n",
       "0         294"
      ]
     },
     "execution_count": 21,
     "metadata": {},
     "output_type": "execute_result"
    }
   ],
   "source": [
    "sqldf(\"SELECT count(Distinct SlideId) num_roi_df from df\")"
   ]
  },
  {
   "attachments": {},
   "cell_type": "markdown",
   "metadata": {},
   "source": [
    "Make 2 Tables\n",
    "1. area per class id\n",
    "2. slides per class id"
   ]
  },
  {
   "cell_type": "code",
   "execution_count": 22,
   "metadata": {},
   "outputs": [],
   "source": [
    "#area per class id\n",
    "if all_seperate == False:\n",
    "    table_areas_allSlides = sqldf(\"SELECT class_id, sum(Area) as category_area from df group By class_id\")\n",
    "else: \n",
    "    table_areas_allSlides = sqldf(\"SELECT class_id, dataset, sum(Area) as category_area from df group By class_id\")"
   ]
  },
  {
   "cell_type": "code",
   "execution_count": 23,
   "metadata": {},
   "outputs": [],
   "source": [
    "# table_areas_allSlides[:5]"
   ]
  },
  {
   "cell_type": "code",
   "execution_count": 24,
   "metadata": {},
   "outputs": [],
   "source": [
    "# slides per class id\n",
    "if all_seperate == False:\n",
    "    table_num_classes = sqldf(\"SELECT class_id, count(Distinct SlideId) as num_slides from df group By class_id\")\n",
    "else: \n",
    "    table_num_classes = sqldf(\"SELECT class_id, dataset,count(Distinct SlideId) as num_slides from df group By dataset, class_id\")"
   ]
  },
  {
   "cell_type": "code",
   "execution_count": 25,
   "metadata": {},
   "outputs": [],
   "source": [
    "# table_num_classes[:4]"
   ]
  },
  {
   "cell_type": "code",
   "execution_count": 26,
   "metadata": {},
   "outputs": [],
   "source": [
    "#map names instead of class_id\n",
    "d_swap = {v: k for k, v in reduced_label_dict.items()}\n",
    "table_num_classes = table_num_classes.replace({\"class_id\": d_swap})"
   ]
  },
  {
   "cell_type": "code",
   "execution_count": 27,
   "metadata": {},
   "outputs": [],
   "source": [
    "#set background color\n",
    "mpl.rcParams['figure.facecolor'] = 'white'"
   ]
  },
  {
   "cell_type": "code",
   "execution_count": 28,
   "metadata": {},
   "outputs": [
    {
     "data": {
      "image/png": "[encoded data removed]",
      "text/plain": [
       "<Figure size 720x360 with 3 Axes>"
      ]
     },
     "metadata": {
      "needs_background": "light"
     },
     "output_type": "display_data"
    }
   ],
   "source": [
    "#visualize number of slides\n",
    "if all_seperate == False:\n",
    "    table_num_classes.plot(kind = 'bar', x = 'class_id', y='num_slides', color = \"steelblue\", rot=0)\n",
    "else: \n",
    "    #einzelne plots machen\n",
    "    train_df = sqldf(\"SELECT class_id, dataset, num_slides from table_num_classes where dataset == 'train'\")\n",
    "    valid_df = sqldf(\"SELECT class_id, dataset, num_slides from table_num_classes where dataset == 'valid'\")\n",
    "    test_df = sqldf(\"SELECT class_id, dataset, num_slides from table_num_classes where dataset == 'test'\")\n",
    "    \n",
    "    #initialize subplot with number rows and cols\n",
    "    figure, axis = plt.subplots(1, 3, figsize = (10,5))\n",
    "    figure.tight_layout()\n",
    "\n",
    "    # axis[0].plot() #(kind = 'bar', x = 'class_id', y='num_slides', color = \"steelblue\", rot=0))\n",
    "    axis[0].bar(train_df.class_id, train_df.num_slides)\n",
    "    axis[0].set_title(\"train dataset\")\n",
    "    axis[0].set_ylabel(\"number of slides\")\n",
    "    axis[0].set_ylim([0,180])\n",
    "    axis[1].bar(valid_df.class_id, valid_df.num_slides)\n",
    "    axis[1].set_title(\"valid dataset\")\n",
    "    axis[1].set_ylim([0,180])\n",
    "    axis[2].bar(test_df.class_id, test_df.num_slides)\n",
    "    axis[2].set_title(\"test dataset\")\n",
    "    axis[2].set_ylim([0,180])\n",
    "\n",
    "    if dataset_type  == \"tubule_formation_segmentation\": \n",
    "        axis[1].set_xlabel(\"tubule formation classes\")\n",
    "    if dataset_type  == \"mammaCA_tumor_segmentation\": \n",
    "        axis[1].set_xlabel(\"tumor classes\")\n",
    "    if dataset_type  == \"scc_tumor_segmentation\": \n",
    "        axis[1].set_xlabel(\"tumor classes\")\n",
    "    else: \n",
    "        axis[1].set_xlabel(\"nuclear pleomorphism classes\")\n"
   ]
  },
  {
   "attachments": {},
   "cell_type": "markdown",
   "metadata": {},
   "source": [
    "## 2. Distribution of Pixel Areas in Percent"
   ]
  },
  {
   "attachments": {},
   "cell_type": "markdown",
   "metadata": {},
   "source": [
    "Calculate Area in Pixels and Percentage (Pixel per whole area)"
   ]
  },
  {
   "cell_type": "code",
   "execution_count": 29,
   "metadata": {},
   "outputs": [
    {
     "data": {
      "text/html": [
       "<div>\n",
       "<style scoped>\n",
       "    .dataframe tbody tr th:only-of-type {\n",
       "        vertical-align: middle;\n",
       "    }\n",
       "\n",
       "    .dataframe tbody tr th {\n",
       "        vertical-align: top;\n",
       "    }\n",
       "\n",
       "    .dataframe thead th {\n",
       "        text-align: right;\n",
       "    }\n",
       "</style>\n",
       "<table border=\"1\" class=\"dataframe\">\n",
       "  <thead>\n",
       "    <tr style=\"text-align: right;\">\n",
       "      <th></th>\n",
       "      <th>class_id</th>\n",
       "      <th>dataset</th>\n",
       "      <th>category_area</th>\n",
       "      <th>whole_area</th>\n",
       "    </tr>\n",
       "  </thead>\n",
       "  <tbody>\n",
       "    <tr>\n",
       "      <th>0</th>\n",
       "      <td>0</td>\n",
       "      <td>train</td>\n",
       "      <td>3.092156e+06</td>\n",
       "      <td>1.834589e+09</td>\n",
       "    </tr>\n",
       "    <tr>\n",
       "      <th>1</th>\n",
       "      <td>2</td>\n",
       "      <td>train</td>\n",
       "      <td>1.345966e+09</td>\n",
       "      <td>1.834589e+09</td>\n",
       "    </tr>\n",
       "    <tr>\n",
       "      <th>2</th>\n",
       "      <td>3</td>\n",
       "      <td>train</td>\n",
       "      <td>4.855311e+08</td>\n",
       "      <td>1.834589e+09</td>\n",
       "    </tr>\n",
       "  </tbody>\n",
       "</table>\n",
       "</div>"
      ],
      "text/plain": [
       "   class_id dataset  category_area    whole_area\n",
       "0         0   train   3.092156e+06  1.834589e+09\n",
       "1         2   train   1.345966e+09  1.834589e+09\n",
       "2         3   train   4.855311e+08  1.834589e+09"
      ]
     },
     "execution_count": 29,
     "metadata": {},
     "output_type": "execute_result"
    }
   ],
   "source": [
    "#whole area\n",
    "area_all_classes = sum(table_areas_allSlides[\"category_area\"])\n",
    "#add new column with constant value\n",
    "table_areas_allSlides[\"whole_area\"] = area_all_classes\n",
    "table_areas_allSlides"
   ]
  },
  {
   "cell_type": "code",
   "execution_count": 30,
   "metadata": {},
   "outputs": [
    {
     "data": {
      "text/html": [
       "<div>\n",
       "<style scoped>\n",
       "    .dataframe tbody tr th:only-of-type {\n",
       "        vertical-align: middle;\n",
       "    }\n",
       "\n",
       "    .dataframe tbody tr th {\n",
       "        vertical-align: top;\n",
       "    }\n",
       "\n",
       "    .dataframe thead th {\n",
       "        text-align: right;\n",
       "    }\n",
       "</style>\n",
       "<table border=\"1\" class=\"dataframe\">\n",
       "  <thead>\n",
       "    <tr style=\"text-align: right;\">\n",
       "      <th></th>\n",
       "      <th>class_id</th>\n",
       "      <th>category_area_perc</th>\n",
       "    </tr>\n",
       "  </thead>\n",
       "  <tbody>\n",
       "    <tr>\n",
       "      <th>0</th>\n",
       "      <td>0</td>\n",
       "      <td>0.168548</td>\n",
       "    </tr>\n",
       "    <tr>\n",
       "      <th>1</th>\n",
       "      <td>2</td>\n",
       "      <td>73.366066</td>\n",
       "    </tr>\n",
       "    <tr>\n",
       "      <th>2</th>\n",
       "      <td>3</td>\n",
       "      <td>26.465386</td>\n",
       "    </tr>\n",
       "  </tbody>\n",
       "</table>\n",
       "</div>"
      ],
      "text/plain": [
       "   class_id  category_area_perc\n",
       "0         0            0.168548\n",
       "1         2           73.366066\n",
       "2         3           26.465386"
      ]
     },
     "execution_count": 30,
     "metadata": {},
     "output_type": "execute_result"
    }
   ],
   "source": [
    "#calculate area percentage\n",
    "table_areas_allSlides_perc = sqldf(\"SELECT class_id, (category_area/whole_area)*100 as category_area_perc from table_areas_allSlides\")\n",
    "table_areas_allSlides_perc"
   ]
  },
  {
   "cell_type": "code",
   "execution_count": 31,
   "metadata": {},
   "outputs": [
    {
     "data": {
      "text/plain": [
       "<AxesSubplot: xlabel='class_id'>"
      ]
     },
     "execution_count": 31,
     "metadata": {},
     "output_type": "execute_result"
    },
    {
     "data": {
      "image/png": "[encoded data removed]",
      "text/plain": [
       "<Figure size 432x288 with 1 Axes>"
      ]
     },
     "metadata": {
      "needs_background": "light"
     },
     "output_type": "display_data"
    }
   ],
   "source": [
    "#visualize (percentage)\n",
    "table_areas_allSlides_perc = table_areas_allSlides_perc.replace({\"class_id\": d_swap})\n",
    "table_areas_allSlides_perc.plot(kind = 'bar', x = 'class_id', y='category_area_perc', color = \"steelblue\", rot=0)"
   ]
  }
 ],
 "metadata": {
  "kernelspec": {
   "display_name": "Python 3 (ipykernel)",
   "language": "python",
   "name": "python3"
  },
  "language_info": {
   "codemirror_mode": {
    "name": "ipython",
    "version": 3
   },
   "file_extension": ".py",
   "mimetype": "text/x-python",
   "name": "python",
   "nbconvert_exporter": "python",
   "pygments_lexer": "ipython3",
   "version": "3.8.10"
  },
  "vscode": {
   "interpreter": {
    "hash": "916dbcbb3f70747c44a77c7bcd40155683ae19c65e1c03b4aa3499c5328201f1"
   }
  }
 },
 "nbformat": 4,
 "nbformat_minor": 2
}
